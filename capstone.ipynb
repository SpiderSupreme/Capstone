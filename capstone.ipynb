{
 "cells": [
  {
   "cell_type": "code",
   "execution_count": 2,
   "id": "474d0e04",
   "metadata": {},
   "outputs": [
    {
     "data": {
      "text/plain": [
       "{'amount': 1.0,\n",
       " 'base': 'EUR',\n",
       " 'date': '2022-07-11',\n",
       " 'rates': {'AUD': 1.491,\n",
       "  'BGN': 1.9558,\n",
       "  'BRL': 5.3673,\n",
       "  'CAD': 1.314,\n",
       "  'CHF': 0.9908,\n",
       "  'CNY': 6.7793,\n",
       "  'CZK': 24.592,\n",
       "  'DKK': 7.4414,\n",
       "  'GBP': 0.8454,\n",
       "  'HKD': 7.9265,\n",
       "  'HRK': 7.518,\n",
       "  'HUF': 408.22,\n",
       "  'IDR': 15132,\n",
       "  'ILS': 3.5108,\n",
       "  'INR': 80.24,\n",
       "  'ISK': 139.3,\n",
       "  'JPY': 138.77,\n",
       "  'KRW': 1320.36,\n",
       "  'MXN': 20.784,\n",
       "  'MYR': 4.4704,\n",
       "  'NOK': 10.299,\n",
       "  'NZD': 1.6466,\n",
       "  'PHP': 56.574,\n",
       "  'PLN': 4.7968,\n",
       "  'RON': 4.943,\n",
       "  'SEK': 10.6943,\n",
       "  'SGD': 1.4178,\n",
       "  'THB': 36.585,\n",
       "  'TRY': 17.5447,\n",
       "  'USD': 1.0098,\n",
       "  'ZAR': 17.1634}}"
      ]
     },
     "execution_count": 2,
     "metadata": {},
     "output_type": "execute_result"
    }
   ],
   "source": [
    "import requests    #import module to get the data\n",
    "r = requests.get('https://api.frankfurter.app/latest',)   #send a get request to retrieve the response, get a response object\n",
    "r.status_code   #Get the status..returns an integer on success\n",
    "r.text    #load the data\n",
    "r.json()  #get data in a more readable json format'''"
   ]
  },
  {
   "cell_type": "code",
   "execution_count": 7,
   "id": "69cd2d8f",
   "metadata": {},
   "outputs": [],
   "source": [
    "r.json()['base']='INR'"
   ]
  },
  {
   "cell_type": "code",
   "execution_count": null,
   "id": "f984cb23",
   "metadata": {},
   "outputs": [],
   "source": [
    " import requests \n",
    "\n",
    "def printor(a):\n",
    "    {\n",
    "        r = requests.get('https://api.frankfurter.app/latest',a)   #send a get request to retrieve the response, get a response object\n",
    "        r.status_code   #Get the status..returns an integer on success\n",
    "        r.text    #load the data\n",
    "        r.json()  #get data in a more readable json format'''  \n",
    "    }  \n",
    "    \n"
   ]
  }
 ],
 "metadata": {
  "kernelspec": {
   "display_name": "Python 3 (ipykernel)",
   "language": "python",
   "name": "python3"
  },
  "language_info": {
   "codemirror_mode": {
    "name": "ipython",
    "version": 3
   },
   "file_extension": ".py",
   "mimetype": "text/x-python",
   "name": "python",
   "nbconvert_exporter": "python",
   "pygments_lexer": "ipython3",
   "version": "3.9.12"
  }
 },
 "nbformat": 4,
 "nbformat_minor": 5
}
